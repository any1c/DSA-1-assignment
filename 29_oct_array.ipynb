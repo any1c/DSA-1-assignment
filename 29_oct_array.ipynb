{
 "cells": [
  {
   "cell_type": "code",
   "execution_count": null,
   "id": "eb839f95-7528-4007-8394-25da2fb4f4bf",
   "metadata": {},
   "outputs": [],
   "source": []
  },
  {
   "cell_type": "code",
   "execution_count": null,
   "id": "7d25745e-e049-4767-9241-f6391d5612b1",
   "metadata": {},
   "outputs": [],
   "source": [
    "\"\"\"\n",
    "1. Given an array, check if it contains any duplicates or not.\n",
    "arr = [1, 2, 4, 2, 5, 9]\n",
    "Output = True\n",
    "\"\"\""
   ]
  },
  {
   "cell_type": "code",
   "execution_count": 65,
   "id": "248b684c-cee8-4769-9721-ccad78552fce",
   "metadata": {},
   "outputs": [
    {
     "data": {
      "text/plain": [
       "True"
      ]
     },
     "execution_count": 65,
     "metadata": {},
     "output_type": "execute_result"
    }
   ],
   "source": [
    "arr = [1, 2, 4, 2, 5, 9]\n",
    "def checking_duplicate(array):\n",
    "    sets=set()\n",
    "    \n",
    "    for num in arr:\n",
    "        \n",
    "        if num in sets:\n",
    "            return True\n",
    "        \n",
    "        sets.add(num)\n",
    "        \n",
    "    return False\n",
    "\n",
    "checking_duplicate(arr)"
   ]
  },
  {
   "cell_type": "code",
   "execution_count": null,
   "id": "b2e021ca-bd43-4e05-96e9-912105e4eec5",
   "metadata": {},
   "outputs": [],
   "source": []
  },
  {
   "cell_type": "code",
   "execution_count": null,
   "id": "89e1c176-f44e-422a-8f6a-34c737f6c87e",
   "metadata": {},
   "outputs": [],
   "source": [
    "\"\"\"2. Given an array and an integer k, rotate the array to the right by k steps.\n",
    "arr = [1, 2, 3, 4, 5, 6, 7] k = 3\n",
    "Output = [5, 6, 7, 1, 2, 3, 4]\n",
    "\"\"\""
   ]
  },
  {
   "cell_type": "code",
   "execution_count": 25,
   "id": "54b8037e-2524-449c-970c-df091824399c",
   "metadata": {},
   "outputs": [
    {
     "data": {
      "text/plain": [
       "[5, 6, 7, 1, 2, 3, 4]"
      ]
     },
     "execution_count": 25,
     "metadata": {},
     "output_type": "execute_result"
    }
   ],
   "source": [
    "def rotate_array(arr,k):\n",
    "    \n",
    "    for _ in range(k):\n",
    "        last_element=arr.pop() # removing last element\n",
    "        arr.insert(0,last_element) # inserting first element there.\n",
    "        \n",
    "    return arr\n",
    "\n",
    "array = [1, 2, 3, 4, 5, 6, 7] \n",
    "constant = 3 # number of time you wanna do it is k\n",
    "rotate_array(array,constant)"
   ]
  },
  {
   "cell_type": "code",
   "execution_count": null,
   "id": "dd17cd9a-e49a-4da9-8d53-617dbdeba05e",
   "metadata": {},
   "outputs": [],
   "source": []
  },
  {
   "cell_type": "code",
   "execution_count": null,
   "id": "e4e73a69-16ec-4b2c-b9a1-327b1dfb9a27",
   "metadata": {},
   "outputs": [],
   "source": [
    "\"\"\"3.Reverse the given array in-place, means without using any extra data structure.\n",
    "arr = [2, 4, 5, 7, 9, 12]\n",
    "Output = [12, 9, 7, 5, 4, 2]\n",
    "\"\"\""
   ]
  },
  {
   "cell_type": "code",
   "execution_count": 1,
   "id": "8b8792cd-087b-4385-bf0a-89b58add9580",
   "metadata": {},
   "outputs": [
    {
     "data": {
      "text/plain": [
       "[12, 9, 7, 5, 4, 2]"
      ]
     },
     "execution_count": 1,
     "metadata": {},
     "output_type": "execute_result"
    }
   ],
   "source": [
    "arr3 = [2, 4, 5, 7, 9, 12]\n",
    "reverse=list(reversed(arr3))\n",
    "reverse"
   ]
  },
  {
   "cell_type": "code",
   "execution_count": null,
   "id": "80adde28-9ae5-43a5-94b4-75381d021de5",
   "metadata": {},
   "outputs": [],
   "source": []
  },
  {
   "cell_type": "code",
   "execution_count": 22,
   "id": "ad9b6eb1-4c25-40c7-b72e-31d84b1cee04",
   "metadata": {},
   "outputs": [
    {
     "data": {
      "text/plain": [
       "[12, 9, 7, 5, 4, 2]"
      ]
     },
     "execution_count": 22,
     "metadata": {},
     "output_type": "execute_result"
    }
   ],
   "source": [
    "def reverse_array(arr):\n",
    "    return arr[::-1]\n",
    "\n",
    "\n",
    "reverse_array(arr3)"
   ]
  },
  {
   "cell_type": "code",
   "execution_count": null,
   "id": "ea492f1e-c7f6-46d4-b1b8-1fb845658f47",
   "metadata": {},
   "outputs": [],
   "source": []
  },
  {
   "cell_type": "code",
   "execution_count": null,
   "id": "b13e194b-1f89-4218-9905-f1f54ca9eb32",
   "metadata": {},
   "outputs": [],
   "source": [
    "\"\"\"\n",
    "4.Given an array of integers, find the maximum element in an array\n",
    "arr = [10, 5, 20, 8, 15]\n",
    "Output = 20\n",
    "\n",
    "\"\"\""
   ]
  },
  {
   "cell_type": "code",
   "execution_count": 85,
   "id": "eeea8f81-2e10-4d27-b326-e73517da361e",
   "metadata": {},
   "outputs": [
    {
     "data": {
      "text/plain": [
       "20"
      ]
     },
     "execution_count": 85,
     "metadata": {},
     "output_type": "execute_result"
    }
   ],
   "source": [
    "arr4= [10, 5, 20, 8, 15]\n",
    "def maximum(arr):\n",
    "    maxi=0\n",
    "    for i in arr:\n",
    "        if i>maxi:\n",
    "            maxi=i\n",
    "            \n",
    "    return maxi\n",
    "\n",
    "maximum(arr4)"
   ]
  },
  {
   "cell_type": "code",
   "execution_count": null,
   "id": "8c19b4d2-4bca-4b79-a8d6-5429bbadc1c8",
   "metadata": {},
   "outputs": [],
   "source": []
  },
  {
   "cell_type": "code",
   "execution_count": null,
   "id": "deb74fc0-e1bb-4086-81f5-818d18805e54",
   "metadata": {},
   "outputs": [],
   "source": [
    "\"\"\"5. Given a sorted array, remove the duplicate element without using any extra data structure.\n",
    "arr = [1, 1, 2, 2, 2, 3, 3, 4, 4, 4, 5, 5]\n",
    "Output = [1, 2, 3, 4, 5]\"\"\""
   ]
  },
  {
   "cell_type": "code",
   "execution_count": 36,
   "id": "fc2eee55-a28f-4879-ada0-33a7f1770e4d",
   "metadata": {},
   "outputs": [
    {
     "data": {
      "text/plain": [
       "[1, 2, 3, 4, 5]"
      ]
     },
     "execution_count": 36,
     "metadata": {},
     "output_type": "execute_result"
    }
   ],
   "source": [
    "arr5 = [1, 1, 2, 2, 2, 3, 3, 4, 4, 4, 5, 5]\n",
    "def remove_duplicates(arr):\n",
    "    return list(set(arr))\n",
    "\n",
    "remove_duplicates(arr5)"
   ]
  },
  {
   "cell_type": "code",
   "execution_count": null,
   "id": "eb49dfc5-2016-48c1-96e8-e921f9667aaf",
   "metadata": {},
   "outputs": [],
   "source": []
  }
 ],
 "metadata": {
  "kernelspec": {
   "display_name": "Python 3 (ipykernel)",
   "language": "python",
   "name": "python3"
  },
  "language_info": {
   "codemirror_mode": {
    "name": "ipython",
    "version": 3
   },
   "file_extension": ".py",
   "mimetype": "text/x-python",
   "name": "python",
   "nbconvert_exporter": "python",
   "pygments_lexer": "ipython3",
   "version": "3.10.8"
  }
 },
 "nbformat": 4,
 "nbformat_minor": 5
}
